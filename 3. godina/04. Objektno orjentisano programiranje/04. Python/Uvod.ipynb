{
 "cells": [
  {
   "cell_type": "code",
   "execution_count": 20,
   "metadata": {},
   "outputs": [
    {
     "name": "stdout",
     "output_type": "stream",
     "text": [
      "<class 'str'>\n"
     ]
    }
   ],
   "source": [
    "a = 5\n",
    "b = 13\n",
    "if a > b:\n",
    "    z = a + b\n",
    "    print(z)\n",
    "\n",
    "a = \"Nemanja\"\n",
    "print(type(a))"
   ]
  },
  {
   "cell_type": "code",
   "execution_count": 25,
   "metadata": {},
   "outputs": [
    {
     "name": "stdout",
     "output_type": "stream",
     "text": [
      "68\n",
      "14\n",
      "28.0\n"
     ]
    }
   ],
   "source": [
    "a = \"6\"\n",
    "b = 8\n",
    "\n",
    "# \"6\" + \"8\" = \"68\"\n",
    "print(a + str(b))\n",
    "\n",
    "# 6 + 8 = 14\n",
    "print(int(a) + b)\n",
    "\n",
    "c = 3.5\n",
    "# 8 * 3.5 = 28\n",
    "print(b * c)"
   ]
  },
  {
   "cell_type": "markdown",
   "metadata": {},
   "source": [
    "Tipovi promenljivih:\n",
    "Numericki:     int, float\n",
    "Tekstualni:    str\n",
    "Bulian:        bool\n",
    "Sekvencijalni: list, tuple (n-torka)\n",
    "Mape:          dict (recnik)\n",
    "Skupovi:       set (skup)\n"
   ]
  },
  {
   "cell_type": "code",
   "execution_count": 26,
   "metadata": {},
   "outputs": [],
   "source": [
    "x = \"Ovo je neki string.\"  # str\n",
    "x = 5                      # int\n",
    "x = 5.87                   # float\n",
    "x = True                   # bool\n",
    "x = [\"mleko\", \"jaja\", \"sir\"] # lista\n",
    "x = [3, 3.56, 8]\n",
    "x = (2, 3, 6, 7)            # tuple\n",
    "x = {\"ime\":\"Marko\", \"starost\":14, \"visina\":185.3, \"student\":False} # dict\n",
    "x = {\"jabuka\", \"breskva\", \"kajsija\"} # set\n"
   ]
  },
  {
   "cell_type": "markdown",
   "metadata": {},
   "source": [
    "## Liste"
   ]
  },
  {
   "cell_type": "code",
   "execution_count": 42,
   "metadata": {},
   "outputs": [
    {
     "name": "stdout",
     "output_type": "stream",
     "text": [
      "['banana', 'jabuka', 'kruska', 'kajsija', 'banana']\n",
      "banana\n",
      "Duzina liste je: 5\n"
     ]
    }
   ],
   "source": [
    "# Dozvoljava duplikate\n",
    "lista = [\"banana\", \"jabuka\", \"kruska\", \"kajsija\", \"banana\"]\n",
    "print(lista)\n",
    "\n",
    "# Pristup putem indeksa\n",
    "print(lista[0])\n",
    "\n",
    "# Duzina liste\n",
    "print(\"Duzina liste je:\", len(lista))\n",
    "\n",
    "# Mešovita lista\n",
    "lista = [\"asd\", 32, True, 4.32]"
   ]
  },
  {
   "cell_type": "markdown",
   "metadata": {},
   "source": [
    "## Tuple"
   ]
  },
  {
   "cell_type": "code",
   "execution_count": 45,
   "metadata": {},
   "outputs": [
    {
     "name": "stdout",
     "output_type": "stream",
     "text": [
      "('Beograd', 'Novi Beograd', 'Jurija Gagarina')\n",
      "Beograd\n",
      "Dužina n-torke: 3\n"
     ]
    }
   ],
   "source": [
    "# Dozvoljava duplikate\n",
    "ntorka = (\"Beograd\", \"Novi Beograd\", \"Jurija Gagarina\")\n",
    "print(ntorka)\n",
    "\n",
    "# Pristup putem indeksa\n",
    "print(ntorka[0])\n",
    "\n",
    "# Duzina n-torke\n",
    "print(\"Dužina n-torke:\", len(ntorka))\n",
    "\n",
    "# Mešovita n-torka\n",
    "ntorka = (\"asd\", 32, True, 4.32)"
   ]
  },
  {
   "cell_type": "markdown",
   "metadata": {},
   "source": [
    "## Skup"
   ]
  },
  {
   "cell_type": "code",
   "execution_count": 46,
   "metadata": {},
   "outputs": [
    {
     "name": "stdout",
     "output_type": "stream",
     "text": [
      "{'kajsija', 'breskva', 'jabuka'}\n",
      "Dužina skupa: 3\n"
     ]
    }
   ],
   "source": [
    "# Ne dozvoljava duplikate\n",
    "skup = {\"jabuka\", \"breskva\", \"kajsija\", \"jabuka\"}\n",
    "print(skup)\n",
    "\n",
    "# Nema pristupa putem indeksa\n",
    "\n",
    "# Dimenzija skupa\n",
    "print(\"Dužina skupa:\", len(skup))\n",
    "\n",
    "# Mešovita n-torka\n",
    "skup = {\"asd\", 32, True, 4.32}"
   ]
  },
  {
   "cell_type": "markdown",
   "metadata": {},
   "source": [
    "## Rečnik"
   ]
  },
  {
   "cell_type": "code",
   "execution_count": 54,
   "metadata": {},
   "outputs": [
    {
     "name": "stdout",
     "output_type": "stream",
     "text": [
      "{'ime': 'Marko', 'godiste': 1993, 'visina': 185.3, 'student': False, 'hobiji': ['plivanje', 'trčanje', 'ribolov']}\n",
      "Visina osobe je: 185.3\n",
      "Broj ključeva: 5\n"
     ]
    }
   ],
   "source": [
    "# Zapisani su u formatu ključ:vrednost\n",
    "osoba = {\n",
    "    \"ime\": \"Marko\",\n",
    "    \"godiste\": 1993,\n",
    "    \"visina\": 185.3,\n",
    "    \"student\": False,\n",
    "    \"hobiji\": [\"plivanje\", \"trčanje\", \"ribolov\"]\n",
    "}\n",
    "print(osoba)\n",
    "\n",
    "# Nema pristupa po indeksu, jer se vrši putem ključa\n",
    "\n",
    "# Tražimo po ključu visinu\n",
    "print(\"Visina osobe je:\", osoba[\"visina\"])\n",
    "\n",
    "# Dimenzija rečnika (broj ključeva)\n",
    "print(\"Broj ključeva:\", len(osoba))\n"
   ]
  },
  {
   "cell_type": "markdown",
   "metadata": {},
   "source": [
    "## IF - ELSE - ELIF"
   ]
  },
  {
   "cell_type": "code",
   "execution_count": 58,
   "metadata": {},
   "outputs": [
    {
     "name": "stdout",
     "output_type": "stream",
     "text": [
      "Brojevi su jednaki.\n"
     ]
    }
   ],
   "source": [
    "a = 200\n",
    "b = 200\n",
    "if a > b:\n",
    "    print(\"A je veće od B.\")\n",
    "elif a < b:\n",
    "    print(\"B je veće od A.\")\n",
    "else:\n",
    "    print(\"Brojevi su jednaki.\")"
   ]
  },
  {
   "cell_type": "code",
   "execution_count": null,
   "metadata": {},
   "outputs": [],
   "source": []
  }
 ],
 "metadata": {
  "kernelspec": {
   "display_name": "Python 3",
   "language": "python",
   "name": "python3"
  },
  "language_info": {
   "codemirror_mode": {
    "name": "ipython",
    "version": 3
   },
   "file_extension": ".py",
   "mimetype": "text/x-python",
   "name": "python",
   "nbconvert_exporter": "python",
   "pygments_lexer": "ipython3",
   "version": "3.8.5"
  }
 },
 "nbformat": 4,
 "nbformat_minor": 4
}
