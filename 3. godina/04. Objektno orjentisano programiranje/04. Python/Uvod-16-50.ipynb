{
 "cells": [
  {
   "cell_type": "code",
   "execution_count": 2,
   "metadata": {},
   "outputs": [
    {
     "name": "stdout",
     "output_type": "stream",
     "text": [
      "<class 'str'>\n"
     ]
    }
   ],
   "source": [
    "a = 5\n",
    "b = 13\n",
    "if a > b:\n",
    "    z = a + b\n",
    "    print(z)\n",
    "\n",
    "a = \"Nemanja\"\n",
    "print(type(a))"
   ]
  },
  {
   "cell_type": "code",
   "execution_count": 4,
   "metadata": {},
   "outputs": [
    {
     "name": "stdout",
     "output_type": "stream",
     "text": [
      "68\n",
      "14\n",
      "28.0\n"
     ]
    }
   ],
   "source": [
    "a = \"6\"\n",
    "b = 8\n",
    "\n",
    "# \"6\" + \"8\" = \"68\"\n",
    "print(a + str(b)) # Convert.String\n",
    "\n",
    "# 6 + 8 = 14\n",
    "print(int(a) + b) # Convert.ToInt32\n",
    "\n",
    "c = 3.5\n",
    "# 8 * 3.5 = 28\n",
    "print(b * c)"
   ]
  },
  {
   "cell_type": "markdown",
   "metadata": {},
   "source": [
    "Tipovi promenljivih:\n",
    "Numericki:     int, float\n",
    "Tekstualni:    str\n",
    "Bulian:        bool\n",
    "Sekvencijalni: list, tuple (n-torka)\n",
    "Mape:          dict (recnik)\n",
    "Skupovi:       set (skup)\n"
   ]
  },
  {
   "cell_type": "code",
   "execution_count": 26,
   "metadata": {},
   "outputs": [],
   "source": [
    "x = \"Ovo je neki string.\"    # str\n",
    "x = 5                        # int\n",
    "x = 5.87                     # float\n",
    "x = True                     # bool\n",
    "x = [\"mleko\", \"jaja\", \"sir\"] # lista\n",
    "x = [3, 3.56, 8]\n",
    "x = (2, 3, 6, 7)             # tuple\n",
    "x = {\"ime\":\"Marko\", \"starost\":14, \"visina\":185.3, \"student\":False} # dict\n",
    "x = {\"jabuka\", \"breskva\", \"kajsija\"} # set\n"
   ]
  },
  {
   "cell_type": "markdown",
   "metadata": {},
   "source": [
    "## Liste"
   ]
  },
  {
   "cell_type": "code",
   "execution_count": 5,
   "metadata": {},
   "outputs": [
    {
     "name": "stdout",
     "output_type": "stream",
     "text": [
      "['banana', 'jabuka', 'kruska', 'kajsija', 'banana']\n",
      "jabuka\n",
      "Duzina liste je: 5\n"
     ]
    }
   ],
   "source": [
    "# Dozvoljava duplikate\n",
    "lista = [\"banana\", \"jabuka\", \"kruska\", \"kajsija\", \"banana\"]\n",
    "print(lista)\n",
    "\n",
    "# Pristup putem indeksa\n",
    "print(lista[1])\n",
    "\n",
    "# Duzina liste\n",
    "print(\"Duzina liste je:\", len(lista))\n",
    "\n",
    "# Mešovita lista\n",
    "lista = [\"asd\", 32, True, 4.32]"
   ]
  },
  {
   "cell_type": "markdown",
   "metadata": {},
   "source": [
    "## Tuple (uređene n-torke)"
   ]
  },
  {
   "cell_type": "code",
   "execution_count": 45,
   "metadata": {},
   "outputs": [
    {
     "name": "stdout",
     "output_type": "stream",
     "text": [
      "('Beograd', 'Novi Beograd', 'Jurija Gagarina')\n",
      "Beograd\n",
      "Dužina n-torke: 3\n"
     ]
    }
   ],
   "source": [
    "# Dozvoljava duplikate\n",
    "ntorka = (\"Beograd\", \"Novi Beograd\", \"Jurija Gagarina\")\n",
    "print(ntorka)\n",
    "\n",
    "# Pristup putem indeksa\n",
    "print(ntorka[0])\n",
    "\n",
    "# Duzina n-torke\n",
    "print(\"Dužina n-torke:\", len(ntorka))\n",
    "\n",
    "# Mešovita n-torka\n",
    "ntorka = (\"asd\", 32, True, 4.32)"
   ]
  },
  {
   "cell_type": "markdown",
   "metadata": {},
   "source": [
    "## Skup"
   ]
  },
  {
   "cell_type": "code",
   "execution_count": 46,
   "metadata": {},
   "outputs": [
    {
     "name": "stdout",
     "output_type": "stream",
     "text": [
      "{'kajsija', 'breskva', 'jabuka'}\n",
      "Dužina skupa: 3\n"
     ]
    }
   ],
   "source": [
    "# Ne dozvoljava duplikate\n",
    "skup = {\"jabuka\", \"breskva\", \"kajsija\", \"jabuka\"}\n",
    "print(skup)\n",
    "\n",
    "# Nema pristupa putem indeksa\n",
    "\n",
    "# Dimenzija skupa\n",
    "print(\"Dužina skupa:\", len(skup))\n",
    "\n",
    "# Mešovita n-torka\n",
    "skup = {\"asd\", 32, True, 4.32}"
   ]
  },
  {
   "cell_type": "markdown",
   "metadata": {},
   "source": [
    "## Rečnik"
   ]
  },
  {
   "cell_type": "code",
   "execution_count": 6,
   "metadata": {},
   "outputs": [
    {
     "name": "stdout",
     "output_type": "stream",
     "text": [
      "{'ime': 'Marko', 'godiste': 1993, 'visina': 185.3, 'student': False, 'hobiji': ['plivanje', 'trčanje', 'ribolov']}\n",
      "Visina osobe je: ['plivanje', 'trčanje', 'ribolov']\n",
      "Broj ključeva: 5\n"
     ]
    }
   ],
   "source": [
    "# Zapisani su u formatu ključ:vrednost\n",
    "osoba = {\n",
    "    \"ime\": \"Marko\",\n",
    "    \"godiste\": 1993,\n",
    "    \"visina\": 185.3,\n",
    "    \"student\": False,\n",
    "    \"hobiji\": [\"plivanje\", \"trčanje\", \"ribolov\"]\n",
    "}\n",
    "print(osoba)\n",
    "\n",
    "# Nema pristupa po indeksu, jer se pristup vrši putem ključa\n",
    "\n",
    "# Tražimo po ključu visinu\n",
    "print(\"Visina osobe je:\", osoba[\"visina\"])\n",
    "\n",
    "# Dimenzija rečnika (broj ključeva)\n",
    "print(\"Broj ključeva:\", len(osoba))\n"
   ]
  },
  {
   "cell_type": "markdown",
   "metadata": {},
   "source": [
    "## IF - ELSE - ELIF"
   ]
  },
  {
   "cell_type": "code",
   "execution_count": 10,
   "metadata": {},
   "outputs": [
    {
     "name": "stdout",
     "output_type": "stream",
     "text": [
      "Brojevi su jednaki.\n"
     ]
    }
   ],
   "source": [
    "a = 200\n",
    "b = 200\n",
    "if a > b:\n",
    "    print(\"A je veće od B.\")\n",
    "elif a < b:     # else if\n",
    "    print(\"B je veće od A.\")\n",
    "else:\n",
    "    print(\"Brojevi su jednaki.\")"
   ]
  },
  {
   "cell_type": "markdown",
   "metadata": {},
   "source": [
    "## While petlja"
   ]
  },
  {
   "cell_type": "code",
   "execution_count": 17,
   "metadata": {},
   "outputs": [
    {
     "name": "stdout",
     "output_type": "stream",
     "text": [
      "1\n",
      "2\n",
      "3\n",
      "4\n",
      "5\n",
      "6\n"
     ]
    }
   ],
   "source": [
    "n = 1\n",
    "while n <= 6:\n",
    "    print(n)\n",
    "    n += 1"
   ]
  },
  {
   "cell_type": "code",
   "execution_count": 4,
   "metadata": {},
   "outputs": [
    {
     "name": "stdout",
     "output_type": "stream",
     "text": [
      "30\n",
      "90\n",
      "150\n",
      "210\n",
      "270\n",
      "330\n",
      "390\n",
      "450\n",
      "510\n",
      "570\n",
      "630\n",
      "690\n",
      "750\n",
      "810\n",
      "870\n",
      "930\n",
      "990\n"
     ]
    }
   ],
   "source": [
    "# Ispisati sve brojeve koji su deljivi sa 15 i deljivi sa 2, od 1 do 1000\n",
    "# Zaustaviti ispisi kada dodjemo do 600 - break\n",
    "# Preskacemo sve brojeve koji su deljivi sa 60 - continue\n",
    "\n",
    "# % - moduo (vraca ostatak pri deljenju)\n",
    "n = 1\n",
    "while n <= 1000:\n",
    "    # if n % 60 == 0:\n",
    "    #    n = n + 1\n",
    "    #    continue   # nastavlja u sledecu iteraciju petlje ranije\n",
    "    # if n == 600:\n",
    "    #     break    # Zavrsava petlju ranije  \n",
    "    \n",
    "    if n % 15 == 0 and n % 2 == 0 and n % 60 != 0:  # and - &&   i    or - ||\n",
    "        print(n)\n",
    "    \n",
    "    n = n + 1"
   ]
  },
  {
   "cell_type": "markdown",
   "metadata": {},
   "source": [
    "## FOR petlja"
   ]
  },
  {
   "cell_type": "code",
   "execution_count": 34,
   "metadata": {},
   "outputs": [
    {
     "name": "stdout",
     "output_type": "stream",
     "text": [
      "Despot\n",
      "Đorđe\n",
      "Maksim\n",
      "Strahinja\n",
      "Milan\n",
      "Uroš\n",
      "Oliver\n",
      "Nikola\n"
     ]
    }
   ],
   "source": [
    "# a[]        _ _ _ _ _ _\n",
    "# i:         0 1 2 3 4 5\n",
    "# a[3] = 4   _ _ _ 4 _ _\n",
    "# i:         0 1 2 3 4 5\n",
    "# for(int i = 0; i < 6; i++)\n",
    "#     a[i] = ....\n",
    "\n",
    "# lista\n",
    "ucesnici = [\"Despot\", \"Đorđe\", \"Maksim\", \"Strahinja\", \"Milan\", \"Uroš\", \"Oliver\", \"Nikola\"]\n",
    "for ucesnik in ucesnici:\n",
    "    print(ucesnik)"
   ]
  },
  {
   "cell_type": "code",
   "execution_count": 2,
   "metadata": {},
   "outputs": [
    {
     "name": "stdout",
     "output_type": "stream",
     "text": [
      "M a f i n _ j e _ s u p e r _ n i n j a ! "
     ]
    }
   ],
   "source": [
    "# string = niska (niz karaktera)\n",
    "recenica = \"Mafin je super ninja!\"\n",
    "# recenica = ['M', 'a', 'f', 'i', 'n', ' ', 'j', 'e', ' ', 's', 'u'....]\n",
    "for slovo in recenica:\n",
    "    if slovo == ' ':\n",
    "        slovo = '_'\n",
    "    print(slovo, end=\" \")  # end - Umesto da spusta u novi red, odvaja ispis zadatim karakterom"
   ]
  },
  {
   "cell_type": "code",
   "execution_count": 28,
   "metadata": {},
   "outputs": [
    {
     "name": "stdout",
     "output_type": "stream",
     "text": [
      "0\n",
      "1\n",
      "2\n",
      "3\n",
      "4\n",
      "5\n"
     ]
    }
   ],
   "source": [
    "niz = range(6)\n",
    "#  0 1 2 3 4 5\n",
    "for broj in niz:          # Brojevi od 0 do 6\n",
    "    print(broj)\n",
    "# for broj in range(6)"
   ]
  },
  {
   "cell_type": "code",
   "execution_count": 29,
   "metadata": {},
   "outputs": [
    {
     "name": "stdout",
     "output_type": "stream",
     "text": [
      "2\n",
      "3\n",
      "4\n",
      "5\n"
     ]
    }
   ],
   "source": [
    "for i in range(2, 6):    # Brojevi od 2 do 6\n",
    "    print(i)"
   ]
  },
  {
   "cell_type": "code",
   "execution_count": 35,
   "metadata": {},
   "outputs": [
    {
     "name": "stdout",
     "output_type": "stream",
     "text": [
      "14\n",
      "21\n",
      "28\n",
      "35\n",
      "42\n",
      "49\n"
     ]
    }
   ],
   "source": [
    "# Ispisati sve brojeve od 10 do 50, koji su deljivi sa 7\n",
    "# for i in range(10, 50):\n",
    "#     if i % 7 == 0:\n",
    "#         print(i)\n",
    "for i in range(14, 50, 7):  # for(int i = 14; i < 50; i += 7)\n",
    "    print(i)"
   ]
  },
  {
   "cell_type": "code",
   "execution_count": 36,
   "metadata": {},
   "outputs": [
    {
     "name": "stdout",
     "output_type": "stream",
     "text": [
      "0\n",
      "10\n",
      "20\n",
      "30\n",
      "40\n",
      "50\n",
      "60\n",
      "70\n",
      "80\n",
      "90\n"
     ]
    }
   ],
   "source": [
    "for i in range(0, 100, 10):  # for(int i = 0; i < 100; i += 10)\n",
    "    print(i)"
   ]
  },
  {
   "cell_type": "code",
   "execution_count": 9,
   "metadata": {},
   "outputs": [
    {
     "name": "stdout",
     "output_type": "stream",
     "text": [
      "3\n",
      "7\n",
      "10\n",
      "15\n",
      "23\n"
     ]
    }
   ],
   "source": [
    "lista = [3, 7, 10, 15, 23]\n",
    "# for brojevi in lista:\n",
    "#    print(brojevi)\n",
    "\n",
    "# for(int i = 0; i < 5; i++){\n",
    "#    cout << lista[i];\n",
    "# }\n",
    "for i in range(len(lista)):\n",
    "    print(lista[i])\n"
   ]
  },
  {
   "cell_type": "markdown",
   "metadata": {},
   "source": [
    "## Funkcije"
   ]
  },
  {
   "cell_type": "code",
   "execution_count": 16,
   "metadata": {},
   "outputs": [
    {
     "name": "stdout",
     "output_type": "stream",
     "text": [
      "Pozdrav iz funkcije\n"
     ]
    }
   ],
   "source": [
    "#void pozdravi_me(){\n",
    "#    cout << \"Pozdrav iz funkcije\";\n",
    "#    return;\n",
    "#}\n",
    "\n",
    "def pozdravi_me():\n",
    "    print(\"Pozdrav iz funkcije\")\n",
    "\n",
    "pozdravi_me()"
   ]
  },
  {
   "cell_type": "code",
   "execution_count": 19,
   "metadata": {},
   "outputs": [
    {
     "name": "stdout",
     "output_type": "stream",
     "text": [
      "Pozdrav Marko, iz funkcije\n"
     ]
    }
   ],
   "source": [
    "def pozdravi_me(ime):\n",
    "    print(\"Pozdrav \" + ime + \", iz funkcije\")\n",
    "    # \"Pozdrav \" + \"Marko\" + \", iz funkcije\"\n",
    "\n",
    "name = \"Marko\"\n",
    "pozdravi_me(name)\n",
    "\n",
    "    \n",
    "# def F(x) = 4*x + 1    \n",
    "\n",
    "# F(5) = 4*5 + 1 = 21\n",
    "# y = 10\n",
    "# F(y) =  4*y + 1 = 4*10 + 1 = 41"
   ]
  },
  {
   "cell_type": "code",
   "execution_count": 23,
   "metadata": {},
   "outputs": [
    {
     "name": "stdout",
     "output_type": "stream",
     "text": [
      "Pozdrav Dragan Markovic, iz funkcije\n"
     ]
    }
   ],
   "source": [
    "def pozdravi_me(ime, prezime):\n",
    "    print(\"Pozdrav \" + ime + \" \" + prezime + \", iz funkcije\")\n",
    "\n",
    "# F(x, y) = 2*x + 4*y + 5\n",
    "# F(5, 3) = 2*5 + 4*3 + 5 = 27\n",
    "name = \"Marko\"\n",
    "surname = \"Nikolic\"\n",
    "pozdravi_me(name, surname)\n",
    "# pozdravi_me(\"Dragan\", \"Markovic\")"
   ]
  },
  {
   "cell_type": "code",
   "execution_count": 25,
   "metadata": {
    "scrolled": true
   },
   "outputs": [
    {
     "name": "stdout",
     "output_type": "stream",
     "text": [
      "25\n"
     ]
    }
   ],
   "source": [
    "def kvadriraj(x):\n",
    "    kvadrat = x * x\n",
    "    return kvadrat\n",
    "\n",
    "rez = kvadriraj(5)  # 25\n",
    "print(rez)"
   ]
  },
  {
   "cell_type": "code",
   "execution_count": 29,
   "metadata": {},
   "outputs": [
    {
     "name": "stdout",
     "output_type": "stream",
     "text": [
      "32\n"
     ]
    }
   ],
   "source": [
    "def stepenuj(x, stepen):\n",
    "    # 5 range(5) = [0 1 2 3 4]\n",
    "    rez = x\n",
    "    for nesto in range(stepen-1):\n",
    "        rez = rez * x\n",
    "    return rez\n",
    "    \n",
    "rez = stepenuj(2, 5)  # 2^5 = 2 * 2 * 2 * 2 * 2 = 32\n",
    "print(rez)"
   ]
  },
  {
   "cell_type": "code",
   "execution_count": null,
   "metadata": {},
   "outputs": [],
   "source": []
  }
 ],
 "metadata": {
  "kernelspec": {
   "display_name": "Python 3",
   "language": "python",
   "name": "python3"
  },
  "language_info": {
   "codemirror_mode": {
    "name": "ipython",
    "version": 3
   },
   "file_extension": ".py",
   "mimetype": "text/x-python",
   "name": "python",
   "nbconvert_exporter": "python",
   "pygments_lexer": "ipython3",
   "version": "3.8.5"
  }
 },
 "nbformat": 4,
 "nbformat_minor": 4
}
